{
 "cells": [
  {
   "cell_type": "markdown",
   "id": "6249f0d5",
   "metadata": {},
   "source": [
    "### DEEP LEARNING and NEURAL NETWORK\n",
    "##### using teansorflow and keras"
   ]
  },
  {
   "cell_type": "code",
   "execution_count": 1,
   "id": "f07612ce",
   "metadata": {},
   "outputs": [],
   "source": [
    "import tensorflow as tf\n",
    "from tensorflow import keras\n",
    "import matplotlib.pyplot as plt\n",
    "import numpy as np"
   ]
  },
  {
   "cell_type": "code",
   "execution_count": 2,
   "id": "f8a4b088",
   "metadata": {},
   "outputs": [],
   "source": [
    "(X_train,y_train), (X_test,y_test) = keras.datasets.mnist.load_data()"
   ]
  },
  {
   "cell_type": "code",
   "execution_count": 3,
   "id": "ac4e7dec",
   "metadata": {},
   "outputs": [
    {
     "name": "stdout",
     "output_type": "stream",
     "text": [
      "(60000, 28, 28)\n",
      "(60000, 784)\n"
     ]
    }
   ],
   "source": [
    "print(X_train.shape)\n",
    "X_trainF = X_train.reshape(len(X_train), 28*28)\n",
    "X_testF = X_test.reshape(len(X_test), 28*28)\n",
    "print(X_trainF.shape)\n",
    "X_trainF, X_testF = X_trainF/255, X_testF/255   ##scaling"
   ]
  },
  {
   "cell_type": "code",
   "execution_count": 23,
   "id": "ed74a6a5",
   "metadata": {
    "scrolled": true
   },
   "outputs": [
    {
     "name": "stdout",
     "output_type": "stream",
     "text": [
      "Epoch 1/5\n",
      "1875/1875 [==============================] - 10s 4ms/step - loss: 0.4674 - accuracy: 0.8770\n",
      "Epoch 2/5\n",
      "1875/1875 [==============================] - 8s 4ms/step - loss: 0.3034 - accuracy: 0.9149\n",
      "Epoch 3/5\n",
      "1875/1875 [==============================] - 8s 4ms/step - loss: 0.2826 - accuracy: 0.9208\n",
      "Epoch 4/5\n",
      "1875/1875 [==============================] - 8s 4ms/step - loss: 0.2732 - accuracy: 0.9237\n",
      "Epoch 5/5\n",
      "1875/1875 [==============================] - 8s 4ms/step - loss: 0.2664 - accuracy: 0.9258\n"
     ]
    },
    {
     "data": {
      "text/plain": [
       "<tensorflow.python.keras.callbacks.History at 0x11b1a308610>"
      ]
     },
     "execution_count": 23,
     "metadata": {},
     "output_type": "execute_result"
    }
   ],
   "source": [
    "model = keras.Sequential([\n",
    "    keras.layers.Dense(10, input_shape=(28*28,), activation='sigmoid')\n",
    "])\n",
    "\n",
    "model.compile(\n",
    "    optimizer='adam',\n",
    "    loss='sparse_categorical_crossentropy',\n",
    "    metrics=['accuracy']\n",
    ")\n",
    "\n",
    "model.fit(X_trainF, y_train, epochs=5)"
   ]
  },
  {
   "cell_type": "code",
   "execution_count": 24,
   "id": "40adee11",
   "metadata": {
    "scrolled": true
   },
   "outputs": [
    {
     "name": "stdout",
     "output_type": "stream",
     "text": [
      "313/313 [==============================] - 2s 4ms/step - loss: 0.2645 - accuracy: 0.9255: 0s - loss: 0.3\n"
     ]
    },
    {
     "data": {
      "text/plain": [
       "[0.2644871473312378, 0.9254999756813049]"
      ]
     },
     "execution_count": 24,
     "metadata": {},
     "output_type": "execute_result"
    }
   ],
   "source": [
    "model.evaluate(X_testF, y_test)"
   ]
  },
  {
   "cell_type": "code",
   "execution_count": 27,
   "id": "a5cdd9c3",
   "metadata": {
    "scrolled": true
   },
   "outputs": [
    {
     "data": {
      "text/plain": [
       "3"
      ]
     },
     "execution_count": 27,
     "metadata": {},
     "output_type": "execute_result"
    },
    {
     "data": {
      "image/png": "[encoded data removed]",
      "text/plain": [
       "<Figure size 288x288 with 1 Axes>"
      ]
     },
     "metadata": {
      "needs_background": "light"
     },
     "output_type": "display_data"
    }
   ],
   "source": [
    "plt.matshow(X_test[200])\n",
    "np.argmax(model.predict(X_testF)[200])"
   ]
  },
  {
   "cell_type": "code",
   "execution_count": 31,
   "id": "9796a86f",
   "metadata": {
    "scrolled": false
   },
   "outputs": [
    {
     "data": {
      "text/plain": [
       "<matplotlib.image.AxesImage at 0x11b2a6a51f0>"
      ]
     },
     "execution_count": 31,
     "metadata": {},
     "output_type": "execute_result"
    },
    {
     "data": {
      "image/png": "[encoded data removed]",
      "text/plain": [
       "<Figure size 432x288 with 1 Axes>"
      ]
     },
     "metadata": {
      "needs_background": "light"
     },
     "output_type": "display_data"
    }
   ],
   "source": [
    "y_predicted = [np.argmax(i) for i in model.predict(X_testF)]\n",
    "cm = tf.math.confusion_matrix(labels=y_test, predictions=y_predicted)  ##confusionmatrix\n",
    "plt.imshow(cm, cmap='hot', interpolation='nearest')"
   ]
  },
  {
   "cell_type": "markdown",
   "id": "e9aefa67",
   "metadata": {},
   "source": [
    "tensorboard, Flattening and Scaling layers."
   ]
  },
  {
   "cell_type": "code",
   "execution_count": 3,
   "id": "02740cc6",
   "metadata": {
    "scrolled": true
   },
   "outputs": [
    {
     "name": "stdout",
     "output_type": "stream",
     "text": [
      "Epoch 1/5\n",
      "1875/1875 [==============================] - 15s 7ms/step - loss: 0.6649 - accuracy: 0.8303\n",
      "Epoch 2/5\n",
      "1875/1875 [==============================] - 11s 6ms/step - loss: 0.3431 - accuracy: 0.9045\n",
      "Epoch 3/5\n",
      "1875/1875 [==============================] - 11s 6ms/step - loss: 0.2950 - accuracy: 0.9175\n",
      "Epoch 4/5\n",
      "1875/1875 [==============================] - 11s 6ms/step - loss: 0.2652 - accuracy: 0.9255 0s - loss: 0.2655 - accura\n",
      "Epoch 5/5\n",
      "1875/1875 [==============================] - 11s 6ms/step - loss: 0.2428 - accuracy: 0.9315\n"
     ]
    },
    {
     "data": {
      "text/plain": [
       "<tensorflow.python.keras.callbacks.History at 0x28b1066fee0>"
      ]
     },
     "execution_count": 3,
     "metadata": {},
     "output_type": "execute_result"
    }
   ],
   "source": [
    "\n",
    "model2 = keras.Sequential([\n",
    "    keras.layers.Flatten(input_shape=(28,28)),\n",
    "    keras.layers.experimental.preprocessing.Rescaling(scale=1./255),\n",
    "    keras.layers.Dense(100, activation='relu'),\n",
    "    keras.layers.Dense(10,activation='sigmoid')\n",
    "])\n",
    "tb_callback = keras.callbacks.TensorBoard(log_dir=\"logs/SGD\",histogram_freq=1)\n",
    "model2.compile(\n",
    "    optimizer='SGD',\n",
    "    loss='sparse_categorical_crossentropy',\n",
    "    metrics=['accuracy']\n",
    ")\n",
    "\n",
    "model2.fit(X_train, y_train, epochs=5, callbacks=[tb_callback])"
   ]
  },
  {
   "cell_type": "code",
   "execution_count": 6,
   "id": "127296aa",
   "metadata": {
    "scrolled": true
   },
   "outputs": [
    {
     "data": {
      "text/plain": [
       "True"
      ]
     },
     "execution_count": 6,
     "metadata": {},
     "output_type": "execute_result"
    }
   ],
   "source": [
    "tf.test.is_built_with_cuda()"
   ]
  },
  {
   "cell_type": "markdown",
   "id": "68ea41a3",
   "metadata": {},
   "source": [
    "regularization with dropout layer"
   ]
  },
  {
   "cell_type": "code",
   "execution_count": 4,
   "id": "daf9c4cf",
   "metadata": {},
   "outputs": [
    {
     "name": "stdout",
     "output_type": "stream",
     "text": [
      "Epoch 1/5\n",
      "1875/1875 [==============================] - 27s 11ms/step - loss: 0.4628 - accuracy: 0.8611\n",
      "Epoch 2/5\n",
      "1875/1875 [==============================] - 20s 10ms/step - loss: 0.2476 - accuracy: 0.9287\n",
      "Epoch 3/5\n",
      "1875/1875 [==============================] - 19s 10ms/step - loss: 0.2059 - accuracy: 0.9423\n",
      "Epoch 4/5\n",
      "1875/1875 [==============================] - 19s 10ms/step - loss: 0.1824 - accuracy: 0.9481\n",
      "Epoch 5/5\n",
      "1875/1875 [==============================] - 19s 10ms/step - loss: 0.1678 - accuracy: 0.95281s\n"
     ]
    },
    {
     "data": {
      "text/plain": [
       "<tensorflow.python.keras.callbacks.History at 0x205f75fa5e0>"
      ]
     },
     "execution_count": 4,
     "metadata": {},
     "output_type": "execute_result"
    }
   ],
   "source": [
    "model3 = keras.Sequential([\n",
    "    keras.layers.Dense(200,input_shape=(28*28,), activation='relu'),\n",
    "    keras.layers.Dropout(0.5),\n",
    "    keras.layers.Dense(100, activation='relu'),\n",
    "    keras.layers.Dropout(0.5),\n",
    "    keras.layers.Dense(10, activation='sigmoid')\n",
    "])\n",
    "\n",
    "model3.compile(\n",
    "    optimizer='adam',\n",
    "    loss='sparse_categorical_crossentropy',\n",
    "    metrics=['accuracy']\n",
    ")\n",
    "\n",
    "model3.fit(X_trainF, y_train, epochs=5)"
   ]
  },
  {
   "cell_type": "code",
   "execution_count": 6,
   "id": "3ca29043",
   "metadata": {
    "scrolled": true
   },
   "outputs": [
    {
     "name": "stdout",
     "output_type": "stream",
     "text": [
      "313/313 [==============================] - 3s 6ms/step - loss: 0.0887 - accuracy: 0.9732\n"
     ]
    },
    {
     "data": {
      "text/plain": [
       "[0.08872417360544205, 0.9732000231742859]"
      ]
     },
     "execution_count": 6,
     "metadata": {},
     "output_type": "execute_result"
    }
   ],
   "source": [
    "model3.evaluate(X_testF, y_test)"
   ]
  },
  {
   "cell_type": "markdown",
   "id": "1937951b",
   "metadata": {},
   "source": [
    "Transfer Learning"
   ]
  },
  {
   "cell_type": "code",
   "execution_count": null,
   "id": "dbb68fbe",
   "metadata": {},
   "outputs": [],
   "source": [
    "import tensorflow_hub as hub\n",
    "\n",
    "##get trained model without the top layer. { ..../feature_vector}\n",
    "trainedModel = \"https://tfhub.dev/google/tf2-preview/mobilenet_v2/feature_vector/4\"\n",
    "pretrainedLayer = hub.KerasLayer( trainedModel, input_shape=(224,224,3), trainable=False)\n",
    "\n",
    "\n",
    "newModel = keras.Sequential([\n",
    "    pretrainedLayer,\n",
    "    keras.layers.Dense(reqNoOfClasses)\n",
    "])\n",
    "newModel.compile(optimizer='adam',\n",
    "            loss='sparse_categorical_crossentropy',\n",
    "            metrics=['accuracy'])"
   ]
  },
  {
   "cell_type": "markdown",
   "id": "362b0ac4",
   "metadata": {},
   "source": [
    " Convolution Neural Network"
   ]
  },
  {
   "cell_type": "code",
   "execution_count": 25,
   "id": "42cd205f",
   "metadata": {
    "scrolled": false
   },
   "outputs": [
    {
     "data": {
      "text/plain": [
       "array([[0., 0., 1., 1., 0., 0., 0., 1., 0., 0.],\n",
       "       [0., 1., 1., 1., 0., 0., 0., 0., 0., 0.],\n",
       "       [0., 1., 0., 0., 1., 0., 0., 0., 0., 0.],\n",
       "       [1., 0., 0., 0., 0., 0., 0., 0., 0., 0.],\n",
       "       [0., 0., 0., 0., 1., 0., 0., 0., 0., 1.]], dtype=float32)"
      ]
     },
     "execution_count": 25,
     "metadata": {},
     "output_type": "execute_result"
    }
   ],
   "source": [
    "##cn is mainly used  in comp vision\n",
    "CNN = keras.Sequential([\n",
    "    ##cnn\n",
    "    keras.layers.Conv2D(filters=32,padding='valid', stride=(1,1) kernel_size=(3,3), activation='relu', input_shape=(32,32,3)),\n",
    "    keras.layers.MaxPooling2D((2,2)),\n",
    "    \n",
    "    keras.layers.Conv2D(filters=64, kernel_size=(3,3), activation='relu', input_shape=(32,32,3)),\n",
    "    keras.layers.MaxPooling2D((2,2)),\n",
    "    \n",
    "    ##dense\n",
    "    keras.layers.Flatten(),\n",
    "    keras.layers.Dense(64, activation='relu'),\n",
    "    keras.layers.Dense(10, activation='softmax')\n",
    "])\n",
    "\n",
    "CNN.compile(optimizer='adam',\n",
    "            loss='sparse_categorical_crossentropy',\n",
    "            metrics=['accuracy'])"
   ]
  },
  {
   "cell_type": "markdown",
   "id": "c80eae23",
   "metadata": {},
   "source": [
    "data augmentation to prevent overfitting  \n",
    "in image processing with cnn"
   ]
  },
  {
   "cell_type": "code",
   "execution_count": null,
   "id": "ae343abe",
   "metadata": {},
   "outputs": [],
   "source": [
    "dataAugmLayer = keras.Sequential([\n",
    "    keras.layers.experimental.preprocessing.RandomFlip(\"horizontal\",image_shape=()),\n",
    "    keras.layers.experimental.preprocessing.RandomZoom(0.1),\n",
    "    keras.layers.experimental.preprocessing.RandomRotation(0.1)\n",
    "])"
   ]
  },
  {
   "cell_type": "markdown",
   "id": "2f856478",
   "metadata": {},
   "source": [
    "Recurrent Neural Network"
   ]
  },
  {
   "cell_type": "code",
   "execution_count": 12,
   "id": "a045a19b",
   "metadata": {},
   "outputs": [
    {
     "data": {
      "text/plain": [
       "array([[ 3,  3,  0],\n",
       "       [26, 10,  0],\n",
       "       [17, 13,  0],\n",
       "       [20, 16, 24],\n",
       "       [12, 29, 27],\n",
       "       [15,  3,  0],\n",
       "       [12, 29,  9],\n",
       "       [ 4, 19,  0],\n",
       "       [ 4, 22,  0],\n",
       "       [ 1, 14,  0]])"
      ]
     },
     "execution_count": 12,
     "metadata": {},
     "output_type": "execute_result"
    }
   ],
   "source": [
    "# word embedding (using supervised technique)\n",
    "from keras.preprocessing.text import one_hot\n",
    "from keras.preprocessing.sequence import pad_sequences\n",
    "\n",
    "reviews = ['nice food',\n",
    "          'amazing restaurant',\n",
    "          'too good',\n",
    "          'just loved it!',\n",
    "          'will go again',\n",
    "          'horrible food',\n",
    "          'never go there',\n",
    "          'poor service',\n",
    "          'poor quality',\n",
    "          'needs improvement']\n",
    "sentiment = np.array([1,1,1,1,1,0,0,0,0,0])\n",
    "\n",
    "vocab_size = 30\n",
    "max_length = 3\n",
    "encodedReviews = [one_hot(d, vocab_size) for d in reviews]\n",
    "paddedReviews = pad_sequences(encodedReviews, maxlen=max_length, padding='post')\n",
    "paddedReviews"
   ]
  },
  {
   "cell_type": "code",
   "execution_count": 17,
   "id": "5babc744",
   "metadata": {},
   "outputs": [
    {
     "name": "stdout",
     "output_type": "stream",
     "text": [
      "Model: \"sequential_3\"\n",
      "_________________________________________________________________\n",
      "Layer (type)                 Output Shape              Param #   \n",
      "=================================================================\n",
      "embedding (Embedding)        (None, 3, 5)              150       \n",
      "_________________________________________________________________\n",
      "flatten_3 (Flatten)          (None, 15)                0         \n",
      "_________________________________________________________________\n",
      "dense_3 (Dense)              (None, 1)                 16        \n",
      "=================================================================\n",
      "Total params: 166\n",
      "Trainable params: 166\n",
      "Non-trainable params: 0\n",
      "_________________________________________________________________\n",
      "None\n"
     ]
    }
   ],
   "source": [
    "embeded_vector_size = 5\n",
    "wrdModel = keras.Sequential()\n",
    "wrdModel.add(keras.layers.Embedding(vocab_size, embeded_vector_size, input_length=max_length, name='embedding'))\n",
    "wrdModel.add(keras.layers.Flatten())\n",
    "wrdModel.add(keras.layers.Dense(1, activation='sigmoid'))\n",
    "wrdModel.compile(optimizer='adam', loss='binary_crossentropy', metrics=['accuracy'])\n",
    "wrdModel.fit(paddedReviews, sentiment, epochs=50, verbose=0)\n",
    "print(wrdModel.summary())"
   ]
  },
  {
   "cell_type": "code",
   "execution_count": 29,
   "id": "3003e31b",
   "metadata": {},
   "outputs": [
    {
     "name": "stdout",
     "output_type": "stream",
     "text": [
      "30 5\n",
      "embedding vector for nice - [ 0.02112724  0.09264202  0.05962163 -0.01154524 -0.0152463 ] and amazing- [ 0.08562744  0.00845588  0.01652019 -0.07925311 -0.0941014 ]\n",
      "embedding vector for horrible - [-0.09543003 -0.09601291 -0.05236762  0.09529765  0.03166131] and poor- [-0.0794685  -0.03294224 -0.04793671  0.08193892  0.00362636]\n"
     ]
    }
   ],
   "source": [
    "embeddingMat=wrdModel.get_layer('embedding').get_weights()[0]\n",
    "print(len(embeddingMat),len(embeddingMat[0]))\n",
    "\n",
    "print('embedding/feature vector for nice -',embeddingMat[3], 'and amazing-',embeddingMat[26])\n",
    "\n",
    "print('embedding/feature vector for horrible -',embeddingMat[15], 'and poor-',embeddingMat[4])"
   ]
  },
  {
   "cell_type": "code",
   "execution_count": 10,
   "id": "06cf7f78",
   "metadata": {},
   "outputs": [
    {
     "data": {
      "text/plain": [
       "[26, 10]"
      ]
     },
     "execution_count": 10,
     "metadata": {},
     "output_type": "execute_result"
    }
   ],
   "source": [
    "one_hot('amazing restaurant',30)"
   ]
  },
  {
   "cell_type": "code",
   "execution_count": 2,
   "id": "255e6e7f",
   "metadata": {
    "scrolled": true
   },
   "outputs": [],
   "source": [
    "##word2vec [self-supervised learning]\n",
    "##!pip install gensim\n",
    "##!pip install python-Levenshtein\n",
    "\n",
    "import gensim\n",
    "review_text = df.reviewText.apply(gensim.utils.simple_preprocess)\n",
    "model = gensim.models.Word2Vec(\n",
    "    window=10,\n",
    "    min_count=2,\n",
    "    workers=4,\n",
    ")\n",
    "model.build_vocab(review_text, progress_per=1000)\n",
    "model.train(review_text, total_examples=model.corpus_count, epochs=model.epochs)\n",
    "model.save(\"./word2vec-amazon-cell-accessories-reviews-short.model\")\n",
    "model.wv.most_similar(\"bad\")\n",
    "model.wv.similarity(w1=\"cheap\", w2=\"inexpensive\")"
   ]
  },
  {
   "cell_type": "code",
   "execution_count": 5,
   "id": "475900c7",
   "metadata": {
    "scrolled": false
   },
   "outputs": [],
   "source": [
    "## contextual sentence embedding for NLP\n",
    "## using BERT(Bidirectional Encoder Representations from Transformers)\n",
    "import tensorflow_hub as hub\n",
    "import tensorflow_text as text\n",
    "\n",
    "preprocess_url = \"https://tfhub.dev/tensorflow/bert_en_uncased_preprocess/3\"\n",
    "encoder_url = \"https://tfhub.dev/tensorflow/bert_en_uncased_L-12_H-768_A-12/4\"\n",
    "\n",
    "bert_preprocess_model = hub.KerasLayer(preprocess_url)\n",
    "bert_encoder_model = hub.KerasLayer(encoder_url)\n",
    "\n",
    "def get_sentence_embeding(sentences):\n",
    "    preprocessed_text = bert_preprocess_model(sentences)\n",
    "    return bert_encoder_model(preprocessed_text)['pooled_output']\n",
    "\n",
    "\n"
   ]
  },
  {
   "cell_type": "code",
   "execution_count": null,
   "id": "116b922a",
   "metadata": {},
   "outputs": [],
   "source": [
    "##Functional Model\n",
    "\n",
    "#BERT Layers\n",
    "text_input = keras.layers.Input(shape=(), dtype=tf.string, name ='text')\n",
    "bert_model = get_sentence_embeding(text_input)\n",
    "\n",
    "#Neural Network layer\n",
    "L1 = keras.layers.Dropout(0.1, name='dropout')(bert_model)\n",
    "L2 = keras.layers.Dense(1, activation='sigmoid', name='output')(L1)\n",
    "\n",
    "rnnModel = keras.Model(inputs=[text_input], outputs=[L2])\n",
    "\n",
    "rnnModel.compile(optimizer='adam',\n",
    "                loss='binary_crossentropy',\n",
    "                metrics='accuracy')"
   ]
  },
  {
   "cell_type": "markdown",
   "id": "d7c74cd0",
   "metadata": {},
   "source": [
    "Tensorflow pipeline"
   ]
  },
  {
   "cell_type": "code",
   "execution_count": 13,
   "id": "8ab88d90",
   "metadata": {},
   "outputs": [
    {
     "name": "stdout",
     "output_type": "stream",
     "text": [
      "21\n",
      "22\n",
      "-108\n",
      "31\n",
      "-1\n",
      "32\n",
      "34\n",
      "31\n",
      "\n",
      "21\n",
      "22\n",
      "-108\n"
     ]
    }
   ],
   "source": [
    "daily_sales = [21, 22, -108, 31, -1, 32, 34, 31]\n",
    "tf_dataset = tf.data.Dataset.from_tensor_slices(daily_sales)\n",
    "for sales in tf_dataset:\n",
    "    print(sales.numpy())\n",
    "print()\n",
    "for sales in tf_dataset.take(3):\n",
    "    print(sales.numpy())"
   ]
  },
  {
   "cell_type": "code",
   "execution_count": 14,
   "id": "d3a56355",
   "metadata": {},
   "outputs": [
    {
     "name": "stdout",
     "output_type": "stream",
     "text": [
      "[1512 1584 2304]\n",
      "[2448 2232 2232]\n"
     ]
    }
   ],
   "source": [
    "tf_dataset = tf_dataset.filter(lambda x:x>0).map(lambda y: y*72).shuffle(2).batch(3)\n",
    "for sales in tf_dataset.as_numpy_iterator():\n",
    "    print(sales)"
   ]
  }
 ],
 "metadata": {
  "kernelspec": {
   "display_name": "Python 3",
   "language": "python",
   "name": "python3"
  },
  "language_info": {
   "codemirror_mode": {
    "name": "ipython",
    "version": 3
   },
   "file_extension": ".py",
   "mimetype": "text/x-python",
   "name": "python",
   "nbconvert_exporter": "python",
   "pygments_lexer": "ipython3",
   "version": "3.9.0"
  }
 },
 "nbformat": 4,
 "nbformat_minor": 5
}
