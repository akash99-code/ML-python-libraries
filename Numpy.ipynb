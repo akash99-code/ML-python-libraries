{
 "cells": [
  {
   "cell_type": "markdown",
   "id": "58b9914c",
   "metadata": {},
   "source": [
    "# NUMPY"
   ]
  },
  {
   "cell_type": "code",
   "execution_count": 4,
   "id": "20e33e62",
   "metadata": {},
   "outputs": [],
   "source": [
    "import numpy as np"
   ]
  },
  {
   "cell_type": "code",
   "execution_count": 5,
   "id": "35fde761",
   "metadata": {},
   "outputs": [
    {
     "name": "stdout",
     "output_type": "stream",
     "text": [
      "[ 2  1  5 83  7  6  1] \n",
      " [[1 2]\n",
      " [3 4]\n",
      " [5 6]]\n",
      "<class 'numpy.ndarray'>\n",
      "4\n",
      "[3 4]\n",
      "[4 6]\n"
     ]
    }
   ],
   "source": [
    "a= np.array([2, 1,5,83,7,6,1])\n",
    "b= np.array([[1,2],[3,4],[5,6]])\n",
    "print(a,'\\n',b)\n",
    "print(type(a))\n",
    "print(b[1,1])\n",
    "print(b[1,:])\n",
    "print(b[1:,1])"
   ]
  },
  {
   "cell_type": "code",
   "execution_count": 6,
   "id": "01672f43",
   "metadata": {},
   "outputs": [
    {
     "name": "stdout",
     "output_type": "stream",
     "text": [
      "[0 1 2 3]\n",
      "[ 3  6  9 12 15 18]\n",
      "[0.   0.25 0.5  0.75 1.   1.25 1.5  1.75 2.  ]\n"
     ]
    }
   ],
   "source": [
    "print(np.arange(4))\n",
    "print(np.arange(3,20,3))\n",
    "print(np.linspace(0,2,9))"
   ]
  },
  {
   "cell_type": "code",
   "execution_count": 7,
   "id": "53319311",
   "metadata": {},
   "outputs": [
    {
     "name": "stdout",
     "output_type": "stream",
     "text": [
      "[0. 0. 0.]\n",
      "[1 1 1 1]\n",
      "[0. 0. 0.]\n",
      "[[1 0 0 0 0]\n",
      " [0 1 0 0 0]\n",
      " [0 0 1 0 0]\n",
      " [0 0 0 1 0]\n",
      " [0 0 0 0 1]]\n"
     ]
    }
   ],
   "source": [
    "print(np.zeros(3))\n",
    "print(np.ones(4, dtype=int))\n",
    "print(np.empty(3))\n",
    "print(np.eye(5, dtype=int))"
   ]
  },
  {
   "cell_type": "code",
   "execution_count": 8,
   "id": "adf937ac",
   "metadata": {},
   "outputs": [
    {
     "name": "stdout",
     "output_type": "stream",
     "text": [
      "[ 1  1  2  5  6  7 83]\n",
      "[ 2  1  5 83  7  6  1  2  1  5 83  7  6  1]\n",
      "[[1 2]\n",
      " [3 4]\n",
      " [5 6]\n",
      " [6 7]]\n"
     ]
    }
   ],
   "source": [
    "print(np.sort(a))\n",
    "print(np.concatenate((a,a)))\n",
    "c= np.array([[6,7]])\n",
    "print(np.concatenate((b,c), axis=0))"
   ]
  },
  {
   "cell_type": "code",
   "execution_count": 9,
   "id": "75bf2718",
   "metadata": {},
   "outputs": [
    {
     "name": "stdout",
     "output_type": "stream",
     "text": [
      "2\n",
      "(3, 2)\n",
      "6\n"
     ]
    }
   ],
   "source": [
    "print(b.ndim)\n",
    "print(b.shape)\n",
    "print(b.size)"
   ]
  },
  {
   "cell_type": "code",
   "execution_count": 10,
   "id": "c8487570",
   "metadata": {},
   "outputs": [
    {
     "name": "stdout",
     "output_type": "stream",
     "text": [
      "[[ 0  1  2  3]\n",
      " [ 4  5  6  7]\n",
      " [ 8  9 10 11]]\n",
      "[[[ 0  1]\n",
      "  [ 2  3]]\n",
      "\n",
      " [[ 4  5]\n",
      "  [ 6  7]]\n",
      "\n",
      " [[ 8  9]\n",
      "  [10 11]]]\n"
     ]
    }
   ],
   "source": [
    "x=np.arange(12).reshape(3,4)\n",
    "print(x)\n",
    "print(x.reshape(3,2,2))\n"
   ]
  },
  {
   "cell_type": "code",
   "execution_count": 11,
   "id": "a4532ffe",
   "metadata": {},
   "outputs": [
    {
     "name": "stdout",
     "output_type": "stream",
     "text": [
      "[[ 2  1  5 83  7  6  1]]\n",
      "[[ 2]\n",
      " [ 1]\n",
      " [ 5]\n",
      " [83]\n",
      " [ 7]\n",
      " [ 6]\n",
      " [ 1]]\n",
      "[[ 2  1  5 83  7  6  1]]\n",
      "[[ 2]\n",
      " [ 1]\n",
      " [ 5]\n",
      " [83]\n",
      " [ 7]\n",
      " [ 6]\n",
      " [ 1]]\n"
     ]
    }
   ],
   "source": [
    "print (a[np.newaxis, :])\n",
    "print (a[:,np.newaxis])\n",
    "print(np.expand_dims(a, axis=0))  ##at index 0 always\n",
    "print(np.expand_dims(a, axis=1))"
   ]
  },
  {
   "cell_type": "code",
   "execution_count": 12,
   "id": "a95e670a",
   "metadata": {},
   "outputs": [
    {
     "name": "stdout",
     "output_type": "stream",
     "text": [
      "[[False False False False]\n",
      " [False False  True  True]\n",
      " [ True  True  True  True]]\n",
      "(array([1, 1, 2, 2, 2, 2], dtype=int64), array([2, 3, 0, 1, 2, 3], dtype=int64))\n",
      "[ 6  7  8  9 10 11]\n",
      "[ 0  2  4  6  8  9 10 11]\n"
     ]
    }
   ],
   "source": [
    "print(x>5)\n",
    "print(np.nonzero(x>5))\n",
    "\n",
    "print(x[x>5])\n",
    "print(x[(x>8) | (x%2==0)])"
   ]
  },
  {
   "cell_type": "code",
   "execution_count": 13,
   "id": "6e61116c",
   "metadata": {},
   "outputs": [
    {
     "name": "stdout",
     "output_type": "stream",
     "text": [
      "[(1, 2), (1, 3), (2, 0), (2, 1), (2, 2), (2, 3)]\n"
     ]
    }
   ],
   "source": [
    "coor=np.nonzero(x>5)\n",
    "print(list(zip(coor[0],coor[1])))"
   ]
  },
  {
   "cell_type": "code",
   "execution_count": 14,
   "id": "e28e3afd",
   "metadata": {},
   "outputs": [
    {
     "name": "stdout",
     "output_type": "stream",
     "text": [
      "[[1 2]\n",
      " [3 4]] \n",
      " [[5 6]\n",
      " [7 8]] \n",
      "\n",
      "[[1 2]\n",
      " [3 4]\n",
      " [5 6]\n",
      " [7 8]]\n",
      "[[1 2 5 6]\n",
      " [3 4 7 8]]\n"
     ]
    }
   ],
   "source": [
    "l=np.arange(1,5).reshape(2,2)\n",
    "m=np.arange(5,9).reshape(2,2)\n",
    "print(l,'\\n',m,'\\n')\n",
    "print(np.vstack((l,m)))\n",
    "print(np.hstack((l,m)))"
   ]
  },
  {
   "cell_type": "code",
   "execution_count": 15,
   "id": "765f6bd5",
   "metadata": {},
   "outputs": [
    {
     "name": "stdout",
     "output_type": "stream",
     "text": [
      "[[ 0  1  2  3  4  5  6  7]\n",
      " [ 8  9 10 11 12 13 14 15]\n",
      " [16 17 18 19 20 21 22 23]]\n",
      "[array([[ 0,  1,  2,  3],\n",
      "       [ 8,  9, 10, 11],\n",
      "       [16, 17, 18, 19]]), array([[ 4,  5,  6,  7],\n",
      "       [12, 13, 14, 15],\n",
      "       [20, 21, 22, 23]])]\n",
      "\n",
      "[array([[ 0,  1],\n",
      "       [ 8,  9],\n",
      "       [16, 17]]), array([[ 2,  3,  4],\n",
      "       [10, 11, 12],\n",
      "       [18, 19, 20]]), array([[ 5,  6],\n",
      "       [13, 14],\n",
      "       [21, 22]]), array([[ 7],\n",
      "       [15],\n",
      "       [23]])]\n",
      "\n",
      "[array([[0, 1, 2, 3, 4, 5, 6, 7]]), array([[ 8,  9, 10, 11, 12, 13, 14, 15]]), array([[16, 17, 18, 19, 20, 21, 22, 23]])]\n"
     ]
    }
   ],
   "source": [
    "z=np.arange(24).reshape(3,8)\n",
    "print(z)\n",
    "print(np.hsplit(z,2))\n",
    "print()\n",
    "print(np.hsplit(z,(2,5,7)))\n",
    "print()\n",
    "print(np.vsplit(z,3))"
   ]
  },
  {
   "cell_type": "code",
   "execution_count": 16,
   "id": "df8b9988",
   "metadata": {},
   "outputs": [],
   "source": [
    "z_deepCopy= z.copy()"
   ]
  },
  {
   "cell_type": "code",
   "execution_count": 17,
   "id": "1c011c2c",
   "metadata": {},
   "outputs": [
    {
     "name": "stdout",
     "output_type": "stream",
     "text": [
      "[[0 1]\n",
      " [2 3]]\n",
      "[[0 2]\n",
      " [4 6]]\n",
      "[[5 6]\n",
      " [7 8]]\n",
      "[[0 0]\n",
      " [0 0]]\n",
      "[[1 2]\n",
      " [3 4]]\n",
      "[[ 0  5]\n",
      " [10 15]]\n",
      "\n",
      "6\n",
      "[2 4]\n",
      "[1 5]\n",
      "\n",
      "3\n",
      "[0 1]\n",
      "[0 2]\n",
      "6\n",
      "[[0 1]\n",
      " [4 9]]\n",
      "[[0.         1.        ]\n",
      " [1.41421356 1.73205081]]\n"
     ]
    }
   ],
   "source": [
    "z=np.arange(4).reshape(2,2)\n",
    "print(z)\n",
    "print(z+z)\n",
    "print(z+np.array([[5,5]]))\n",
    "print(z-z)\n",
    "print(z+1)\n",
    "print(z*5)        ##broadcasting\n",
    "print()\n",
    "print(z.sum())\n",
    "print(z.sum(axis=0))\n",
    "print(z.sum(axis=1))\n",
    "print()\n",
    "print(z.max())\n",
    "print(z.min(axis=0))\n",
    "print(z.min(axis=1))\n",
    "print(np.sum(z))\n",
    "print(np.square(z))\n",
    "print(np.sqrt(z))"
   ]
  },
  {
   "cell_type": "code",
   "execution_count": 18,
   "id": "4616de81",
   "metadata": {},
   "outputs": [
    {
     "name": "stdout",
     "output_type": "stream",
     "text": [
      "[0.09166757 0.25426677 0.60027313]\n",
      "[[1 3 0]\n",
      " [4 3 0]\n",
      " [4 2 2]]\n"
     ]
    }
   ],
   "source": [
    "print(np.random.rand(3))\n",
    "r=np.random.randint(5,size=9).reshape(3,3)\n",
    "print(r)"
   ]
  },
  {
   "cell_type": "code",
   "execution_count": 19,
   "id": "e2b99dbb",
   "metadata": {},
   "outputs": [
    {
     "name": "stdout",
     "output_type": "stream",
     "text": [
      "[0 1 2 3 4]\n",
      "(array([0, 1, 2, 3, 4]), array([2, 0, 7, 1, 3], dtype=int64))\n",
      "(array([0, 1, 2, 3, 4]), array([2, 1, 2, 2, 2], dtype=int64))\n",
      "[[1 3 0]\n",
      " [4 2 2]\n",
      " [4 3 0]]\n"
     ]
    }
   ],
   "source": [
    "print(np.unique(r))\n",
    "print(np.unique(r, return_index=True))\n",
    "print(np.unique(r, return_counts=True))\n",
    "print(np.unique(r, axis=0))"
   ]
  },
  {
   "cell_type": "code",
   "execution_count": 20,
   "id": "b4c3d9af",
   "metadata": {},
   "outputs": [
    {
     "name": "stdout",
     "output_type": "stream",
     "text": [
      "[[1 4 4]\n",
      " [3 3 2]\n",
      " [0 0 2]]\n",
      "[[1 4 4]\n",
      " [3 3 2]\n",
      " [0 0 2]]\n"
     ]
    }
   ],
   "source": [
    "print(r.transpose())\n",
    "print(r.T)"
   ]
  },
  {
   "cell_type": "code",
   "execution_count": 21,
   "id": "66ccae05",
   "metadata": {},
   "outputs": [
    {
     "name": "stdout",
     "output_type": "stream",
     "text": [
      "[[ 0  1  2  3]\n",
      " [ 4  5  6  7]\n",
      " [ 8  9 10 11]]\n",
      "[[11 10  9  8]\n",
      " [ 7  6  5  4]\n",
      " [ 3  2  1  0]]\n",
      "[[ 8  9 10 11]\n",
      " [ 4  5  6  7]\n",
      " [ 0  1  2  3]]\n",
      "[[ 3  2  1  0]\n",
      " [ 7  6  5  4]\n",
      " [11 10  9  8]]\n",
      "[7 6 5 4]\n",
      "[9 5 1]\n"
     ]
    }
   ],
   "source": [
    "print(x)\n",
    "print(np.flip(x))\n",
    "print(np.flip(x, axis=0))\n",
    "print(np.flip(x, axis=1))\n",
    "print(np.flip(x[1]))\n",
    "print(np.flip(x[:,1]))"
   ]
  },
  {
   "cell_type": "code",
   "execution_count": 22,
   "id": "049cd0cd",
   "metadata": {},
   "outputs": [
    {
     "name": "stdout",
     "output_type": "stream",
     "text": [
      "[ 0  1  2  3  4  5  6  7  8  9 10 11]\n",
      "[ 0  1  2  3  4  5  6  7  8  9 10 11]\n"
     ]
    }
   ],
   "source": [
    "print(x.flatten()) #deepcopy\n",
    "print(x.ravel())   #shallowcopy"
   ]
  },
  {
   "cell_type": "code",
   "execution_count": 24,
   "id": "f9842b8c",
   "metadata": {},
   "outputs": [
    {
     "name": "stdout",
     "output_type": "stream",
     "text": [
      "Help on built-in function sum in module builtins:\n",
      "\n",
      "sum(iterable, /, start=0)\n",
      "    Return the sum of a 'start' value (default: 0) plus an iterable of numbers\n",
      "    \n",
      "    When the iterable is empty, return the start value.\n",
      "    This function is intended specifically for use with numeric values and may\n",
      "    reject non-numeric types.\n",
      "\n"
     ]
    }
   ],
   "source": [
    "x?\n",
    "help(sum)"
   ]
  },
  {
   "cell_type": "code",
   "execution_count": 25,
   "id": "929abd8e",
   "metadata": {},
   "outputs": [
    {
     "name": "stdout",
     "output_type": "stream",
     "text": [
      "[[ 0.  1.  2.  3.]\n",
      " [ 4.  5.  6.  7.]\n",
      " [ 8.  9. 10. 11.]]\n"
     ]
    }
   ],
   "source": [
    "np.save('npfile',x)\n",
    "y=np.load('npfile.npy')\n",
    "######################\n",
    "np.savetxt('npcsv.csv',x)\n",
    "y=np.loadtxt('npcsv.csv')\n",
    "print(y)"
   ]
  },
  {
   "cell_type": "code",
   "execution_count": null,
   "id": "6e7ded33",
   "metadata": {},
   "outputs": [],
   "source": []
  }
 ],
 "metadata": {
  "kernelspec": {
   "display_name": "Python 3",
   "language": "python",
   "name": "python3"
  },
  "language_info": {
   "codemirror_mode": {
    "name": "ipython",
    "version": 3
   },
   "file_extension": ".py",
   "mimetype": "text/x-python",
   "name": "python",
   "nbconvert_exporter": "python",
   "pygments_lexer": "ipython3",
   "version": "3.9.0"
  }
 },
 "nbformat": 4,
 "nbformat_minor": 5
}
